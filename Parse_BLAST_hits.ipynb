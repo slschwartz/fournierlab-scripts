{
 "cells": [
  {
   "cell_type": "code",
   "execution_count": 1,
   "metadata": {},
   "outputs": [],
   "source": [
    "import pandas as pd\n",
    "import os\n",
    "# pandas is the python data package you need to use, naming it under call 'pd' here\n",
    "# os has you import the working directory to this python workspace."
   ]
  },
  {
   "cell_type": "code",
   "execution_count": null,
   "metadata": {},
   "outputs": [],
   "source": [
    "header = ['query acc.ver', 'subject acc.ver', '% identity',\n",
    "          'alignment length', 'mismatches', 'gap opens', \n",
    "          'q. start', 'q. end', 's. start', 's. end', 'evalue',\n",
    "          'bit score', 'subject tax id']\n",
    "# this setup inserts a header set for your tab-delineated blast output file, which will be auto-incorp for the next steps"
   ]
  },
  {
   "cell_type": "code",
   "execution_count": null,
   "metadata": {},
   "outputs": [],
   "source": [
    "df = pd.read_table('blastfile.bls',sep='\\t', comment='#',\n",
    "                   header=None, names=header)\n",
    "\n",
    "df['coverage %'] = (df['q. end'] - df['q. start'] + 1) / 334.\n",
    "df = df[((df['% identity'] >= 70)&\n",
    "        (df['coverage %'] >= 0.95))]\n",
    "print (\"Thresholds set, searching data...\")\n",
    "\n",
    "# this makes a new data column in the output, \"coverage percent,\" which indicates query coverage in the hit.\n",
    "# sets thresholds\n",
    "# USER-DEFINED VARIABLE: the sequence length of query hit. Could add a column for sequence length and remove hard coding. "
   ]
  },
  {
   "cell_type": "code",
   "execution_count": null,
   "metadata": {},
   "outputs": [],
   "source": [
    "for query_name in df['query acc.ver'].unique():\n",
    "    tmp_df = df[df['query acc.ver'] == query_name].copy()\n",
    "    out = open('blastfile.hit_ids', 'w')\n",
    "    out.write('\\n'.join(tmp_df['subject acc.ver'].unique()))\n",
    "    # writes CORRESPONDING unique HITS for each BLAST query, given the established thresholds \n",
    "    # \\n is inserting a line break between each element in the array, so that each sequence ID is line-separated\n",
    "    out.close()\n",
    "    os.system('blastdbcmd -db /pathtofile/example/UniRef90/uniref90.fasta -entry_batch blastfile.hit_ids > blastfile_recruited_hits')\n",
    "    # last step is the final step of indexing. It syncs the IDs in your list with their info in the BLAST db. \n",
    "    # comment out any breaks in the loop if you want to iterate through your whole list.\n",
    "print (\"All done, check outfile\")"
   ]
  }
 ],
 "metadata": {
  "kernelspec": {
   "display_name": "Python 3",
   "language": "python",
   "name": "python3"
  },
  "language_info": {
   "codemirror_mode": {
    "name": "ipython",
    "version": 3
   },
   "file_extension": ".py",
   "mimetype": "text/x-python",
   "name": "python",
   "nbconvert_exporter": "python",
   "pygments_lexer": "ipython3",
   "version": "3.8.5"
  }
 },
 "nbformat": 4,
 "nbformat_minor": 2
}
