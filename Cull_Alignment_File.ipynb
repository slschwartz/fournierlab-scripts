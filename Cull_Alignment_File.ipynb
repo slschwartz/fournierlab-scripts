{
 "cells": [
  {
   "cell_type": "code",
   "execution_count": 36,
   "metadata": {},
   "outputs": [],
   "source": [
    "import numpy as np\n",
    "import re\n",
    "import pandas as pd"
   ]
  },
  {
   "cell_type": "code",
   "execution_count": null,
   "metadata": {},
   "outputs": [],
   "source": [
    "#This script will remove hits that have been user-identified as biologically problematic. \n",
    "#Taxa must be entered individually in should_remove."
   ]
  },
  {
   "cell_type": "code",
   "execution_count": 37,
   "metadata": {},
   "outputs": [],
   "source": [
    "alignment = open ('fastafile.fa', 'r').read()"
   ]
  },
  {
   "cell_type": "code",
   "execution_count": 38,
   "metadata": {},
   "outputs": [
    {
     "data": {
      "text/plain": [
       "''"
      ]
     },
     "execution_count": 38,
     "metadata": {},
     "output_type": "execute_result"
    }
   ],
   "source": [
    "alignment = re.split('^>', alignment, flags=re.M) #split file on the carat for fasta. re.M flag means that the file has multiple lines. Every beginning of the line is a new thing; otherwise hat will only match first entry and it'll be ONE massive file.\n",
    "alignment.pop(0) #removes first element, which wouldn't be populated\n"
   ]
  },
  {
   "cell_type": "code",
   "execution_count": 39,
   "metadata": {},
   "outputs": [],
   "source": [
    "should_remove = set('OEL21594.1 SCU82062.1 WP_095415824.1 WP_095415824.1\\\n",
    "                  PSR75874.1 WP_099008300.1 XP_009287989.1 EKD01791.1\\\n",
    "                  EER44000.1 XP_022284327.1 EMR64006.1 EOD50361.1 KOS20856.1\\\n",
    "                  WP_017838528.1 XP_005151643.1 XP_007984249.1 XP_025891661.1 KXS10161.1'.split())\n",
    "\n",
    "#enter in the accession numbers of the hits you wish to cull"
   ]
  },
  {
   "cell_type": "code",
   "execution_count": 40,
   "metadata": {},
   "outputs": [
    {
     "data": {
      "text/plain": [
       "{'CDZ98326.1',\n",
       " 'EER44000.1',\n",
       " 'EKD01791.1',\n",
       " 'EMR64006.1',\n",
       " 'EOD50361.1',\n",
       " 'KKK40664.1',\n",
       " 'KOS20856.1',\n",
       " 'KXS10161.1',\n",
       " 'OEL21594.1',\n",
       " 'PIN20715.1',\n",
       " 'PSR75874.1',\n",
       " 'PWM80782.1',\n",
       " 'SCU82062.1',\n",
       " 'WP_017838528.1',\n",
       " 'WP_083551558.1',\n",
       " 'WP_083811187.1',\n",
       " 'WP_095415824.1',\n",
       " 'WP_099008300.1',\n",
       " 'XP_005151643.1',\n",
       " 'XP_005646017.1',\n",
       " 'XP_007984249.1',\n",
       " 'XP_009287989.1',\n",
       " 'XP_017697763.1',\n",
       " 'XP_022284327.1',\n",
       " 'XP_025891661.1'}"
      ]
     },
     "execution_count": 40,
     "metadata": {},
     "output_type": "execute_result"
    }
   ],
   "source": [
    "should_remove\n",
    "#sanity check"
   ]
  },
  {
   "cell_type": "code",
   "execution_count": 41,
   "metadata": {},
   "outputs": [],
   "source": [
    "all_headers = []\n",
    "all_sequences = []\n",
    "\n",
    "for block in alignment:\n",
    "    block = block.strip().split('\\n')  #puts headers and fasta aa on different lines\n",
    "    header = block[0]\n",
    "    sequence = ''.join(block[1:])\n",
    "    \n",
    "    all_headers.append(header)\n",
    "    all_sequences.append(sequence)"
   ]
  },
  {
   "cell_type": "code",
   "execution_count": 42,
   "metadata": {},
   "outputs": [],
   "source": [
    "out = open('culled_fastafile.fa','w')\n",
    "for header, sequence in zip(all_headers, all_sequences):\n",
    "    sequence_ids = re.findall('>(\\S+)', '>'+header)\n",
    "    if should_remove.intersection(sequence_ids):\n",
    "        continue\n",
    "    else:\n",
    "        out.write('>%s\\n%s\\n' % (header, sequence) )\n",
    "out.close()"
   ]
  },
  {
   "cell_type": "code",
   "execution_count": 1,
   "metadata": {},
   "outputs": [
    {
     "ename": "NameError",
     "evalue": "name 'header' is not defined",
     "output_type": "error",
     "traceback": [
      "\u001b[0;31m---------------------------------------------------------------------------\u001b[0m",
      "\u001b[0;31mNameError\u001b[0m                                 Traceback (most recent call last)",
      "\u001b[0;32m<ipython-input-1-5da80392ce1b>\u001b[0m in \u001b[0;36m<module>\u001b[0;34m\u001b[0m\n\u001b[0;32m----> 1\u001b[0;31m \u001b[0;34m'>'\u001b[0m\u001b[0;34m+\u001b[0m\u001b[0mheader\u001b[0m\u001b[0;34m\u001b[0m\u001b[0;34m\u001b[0m\u001b[0m\n\u001b[0m",
      "\u001b[0;31mNameError\u001b[0m: name 'header' is not defined"
     ]
    }
   ],
   "source": [
    "'>'+header"
   ]
  },
  {
   "cell_type": "code",
   "execution_count": null,
   "metadata": {},
   "outputs": [],
   "source": []
  }
 ],
 "metadata": {
  "kernelspec": {
   "display_name": "Python 3",
   "language": "python",
   "name": "python3"
  },
  "language_info": {
   "codemirror_mode": {
    "name": "ipython",
    "version": 3
   },
   "file_extension": ".py",
   "mimetype": "text/x-python",
   "name": "python",
   "nbconvert_exporter": "python",
   "pygments_lexer": "ipython3",
   "version": "3.7.1"
  }
 },
 "nbformat": 4,
 "nbformat_minor": 2
}
