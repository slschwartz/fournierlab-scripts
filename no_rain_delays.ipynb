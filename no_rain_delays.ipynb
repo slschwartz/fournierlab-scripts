{
 "cells": [
  {
   "cell_type": "code",
   "execution_count": 18,
   "metadata": {},
   "outputs": [
    {
     "name": "stdout",
     "output_type": "stream",
     "text": [
      "/Users/sarahschwartz/Desktop\n"
     ]
    }
   ],
   "source": [
    "#this script removes double headers in fasta files \n",
    "\n",
    "import numpy as np\n",
    "import re\n",
    "import pandas as pd\n",
    "\n",
    "%cd ~/Desktop/ "
   ]
  },
  {
   "cell_type": "code",
   "execution_count": 19,
   "metadata": {},
   "outputs": [],
   "source": [
    "fasta = open ('fasta.txt', 'r').readlines()\n",
    "#for fasta files with >WP_1234 [bacterium 1] >WP_5678 [bacterium 1 or 2] "
   ]
  },
  {
   "cell_type": "code",
   "execution_count": 20,
   "metadata": {},
   "outputs": [],
   "source": [
    "out = open('fasta_nodh.txt','w')\n",
    "for line in fasta:\n",
    "    if line.startswith('>'):\n",
    "        line = '>%s' % line.split('>')[1]\n",
    "    else:\n",
    "        pass\n",
    "    line = line.strip()\n",
    "    out.write('%s\\n'%line)\n",
    "out.close()\n",
    "#for all lines that start with '>' (headers), it splits line from >, keeps the first occurrence of string after, and adds back in '>' "
   ]
  },
  {
   "cell_type": "code",
   "execution_count": null,
   "metadata": {},
   "outputs": [],
   "source": []
  }
 ],
 "metadata": {
  "kernelspec": {
   "display_name": "Python 3",
   "language": "python",
   "name": "python3"
  },
  "language_info": {
   "codemirror_mode": {
    "name": "ipython",
    "version": 3
   },
   "file_extension": ".py",
   "mimetype": "text/x-python",
   "name": "python",
   "nbconvert_exporter": "python",
   "pygments_lexer": "ipython3",
   "version": "3.7.1"
  }
 },
 "nbformat": 4,
 "nbformat_minor": 2
}
