{
 "cells": [
  {
   "cell_type": "code",
   "execution_count": 12,
   "metadata": {},
   "outputs": [
    {
     "name": "stdout",
     "output_type": "stream",
     "text": [
      "/Users/sarahschwartz/Desktop/notebooks\n"
     ]
    }
   ],
   "source": [
    "import re \n",
    "import pandas as pd\n",
    "import numpy as np\n",
    "\n",
    "%cd ~/Desktop/notebooks/"
   ]
  },
  {
   "cell_type": "code",
   "execution_count": 14,
   "metadata": {},
   "outputs": [],
   "source": [
    "alignment = open ('fastafile.fa', 'r').readlines()\n",
    "new_header_aln = open('renamed_fasta.fa', 'w')\n",
    "for line in alignment:\n",
    "    if line.startswith('>'):\n",
    "        regex = re.search('^>(\\S+).*?\\[([^[\\]]+)\\]', line, re.M) #multi-line read searching for the caret, group 1 is protein accession number; group 2 is Genus species\n",
    "        if not regex:\n",
    "            continue\n",
    "       # print('>%s|%s' % (regex.group(2).replace(' ', '_'), regex.group(1))) #tests\n",
    "        new_header_aln.write('>%s|%s\\n' % (regex.group(2).replace(' ', '_'), regex.group(1)))   #writes. reprints the prior formatting as Genus_species|proteinaccno\n",
    "    else:\n",
    "        if not regex:\n",
    "            continue\n",
    "       # print(line) #tests\n",
    "        new_header_aln.write(line) #writes FASTA aa data \n",
    "new_header_aln.close()\n",
    "\n",
    "#This works for alignments OR for raw FASTA files. DOES NOT HAVE TO BE ALIGNED. \n",
    "#Uses RE to invert order of hit entry headers\n",
    "#replaces >ABC00000.1 protein name [Genus species] with >Genus species|ABC00000.1 for use with visualizeinfigtree.py"
   ]
  },
  {
   "cell_type": "code",
   "execution_count": null,
   "metadata": {},
   "outputs": [],
   "source": []
  }
 ],
 "metadata": {
  "kernelspec": {
   "display_name": "Python 3",
   "language": "python",
   "name": "python3"
  },
  "language_info": {
   "codemirror_mode": {
    "name": "ipython",
    "version": 3
   },
   "file_extension": ".py",
   "mimetype": "text/x-python",
   "name": "python",
   "nbconvert_exporter": "python",
   "pygments_lexer": "ipython3",
   "version": "3.8.5"
  }
 },
 "nbformat": 4,
 "nbformat_minor": 2
}
